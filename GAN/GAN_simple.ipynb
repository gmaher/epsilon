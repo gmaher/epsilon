{
 "cells": [
  {
   "cell_type": "code",
   "execution_count": 74,
   "metadata": {
    "collapsed": true
   },
   "outputs": [],
   "source": [
    "%matplotlib inline\n",
    "import numpy as np\n",
    "import tensorflow as tf\n",
    "import matplotlib.pyplot as plt"
   ]
  },
  {
   "cell_type": "code",
   "execution_count": 75,
   "metadata": {
    "collapsed": false
   },
   "outputs": [],
   "source": [
    "NBATCH = 100\n",
    "Nunits = 100\n",
    "std_init = 0.1\n",
    "x = tf.placeholder(tf.float32, shape=(NBATCH,2))\n",
    "z = tf.placeholder(tf.float32, shape=(NBATCH,2))"
   ]
  },
  {
   "cell_type": "code",
   "execution_count": 76,
   "metadata": {
    "collapsed": false
   },
   "outputs": [],
   "source": [
    "#Generator network\n",
    "G_w1 = tf.Variable(tf.random_normal([2,Nunits], stddev=std_init))\n",
    "G_b1 = tf.Variable(tf.zeros([Nunits]))\n",
    "\n",
    "G_out1 = tf.matmul(z, G_w1)+G_b1\n",
    "G_hidden1 = tf.nn.relu(G_out1)\n",
    "\n",
    "G_w2 = tf.Variable(tf.random_normal([Nunits,2], stddev=std_init))\n",
    "G_b2 = tf.Variable(tf.zeros([2]))\n",
    "\n",
    "G_out2 = tf.matmul(G_hidden1, G_w2)+G_b2"
   ]
  },
  {
   "cell_type": "code",
   "execution_count": 77,
   "metadata": {
    "collapsed": true
   },
   "outputs": [],
   "source": [
    "#Discriminator network parameters\n",
    "D_w1 = tf.Variable(tf.random_normal([2,Nunits], stddev=std_init))\n",
    "D_b1 = tf.Variable(tf.zeros([Nunits]))\n",
    "\n",
    "D_w2 = tf.Variable(tf.random_normal([Nunits,1], stddev=std_init))\n",
    "D_b2 = tf.Variable(tf.zeros([1]))"
   ]
  },
  {
   "cell_type": "code",
   "execution_count": 78,
   "metadata": {
    "collapsed": true
   },
   "outputs": [],
   "source": [
    "def discriminator_forward(x_in):\n",
    "    D_out1 = tf.matmul(x_in, D_w1)+D_b1\n",
    "    D_hidden1 = tf.nn.relu(D_out1)\n",
    "    \n",
    "    D_out2 = tf.matmul(D_hidden1,D_w2)+D_b2\n",
    "    D_out2 = tf.sigmoid(D_out2)\n",
    "    \n",
    "    return D_out2"
   ]
  },
  {
   "cell_type": "code",
   "execution_count": 79,
   "metadata": {
    "collapsed": true
   },
   "outputs": [],
   "source": [
    "real_out = discriminator_forward(x)\n",
    "\n",
    "fake_out = discriminator_forward(G_out2)"
   ]
  },
  {
   "cell_type": "code",
   "execution_count": 80,
   "metadata": {
    "collapsed": false
   },
   "outputs": [],
   "source": [
    "D_loss = -tf.reduce_mean(tf.log(real_out)) - tf.reduce_mean(tf.log(1-fake_out))\n",
    "\n",
    "G_loss1 = -tf.reduce_mean(tf.log(fake_out))\n",
    "\n",
    "G_loss2 = tf.reduce_mean(tf.log(1-fake_out))"
   ]
  },
  {
   "cell_type": "code",
   "execution_count": 81,
   "metadata": {
    "collapsed": true
   },
   "outputs": [],
   "source": [
    "#set up optimization\n",
    "lr = 1e-5\n",
    "momentum = 0.9"
   ]
  },
  {
   "cell_type": "code",
   "execution_count": 82,
   "metadata": {
    "collapsed": true
   },
   "outputs": [],
   "source": [
    "opt = tf.train.MomentumOptimizer(lr,momentum)\n",
    "\n",
    "D_train = opt.minimize(D_loss, var_list=[D_w1,D_b1,D_w2,D_b2])\n",
    "\n",
    "G_train1 = opt.minimize(G_loss1, var_list=[G_w1,G_b1,G_w2,G_b2])\n",
    "\n",
    "G_train2 = opt.minimize(G_loss2, var_list=[G_w1,G_b1,G_w2,G_b2])"
   ]
  },
  {
   "cell_type": "code",
   "execution_count": 83,
   "metadata": {
    "collapsed": true
   },
   "outputs": [],
   "source": [
    "#set up session and initialize\n",
    "init = tf.initialize_all_variables()\n",
    "sess = tf.Session()\n",
    "sess.run(init)"
   ]
  },
  {
   "cell_type": "code",
   "execution_count": 100,
   "metadata": {
    "collapsed": true
   },
   "outputs": [],
   "source": [
    "Niter1 = 100\n",
    "Niter2 = 100000\n",
    "print_step = 10000"
   ]
  },
  {
   "cell_type": "code",
   "execution_count": 85,
   "metadata": {
    "collapsed": false
   },
   "outputs": [
    {
     "name": "stdout",
     "output_type": "stream",
     "text": [
      "Discriminator loss:  1.38403 , Generator loss:  0.692857\n",
      "Discriminator loss:  1.38077 , Generator loss:  0.692907\n",
      "Discriminator loss:  1.38663 , Generator loss:  0.692635\n",
      "Discriminator loss:  1.3792 , Generator loss:  0.693273\n",
      "Discriminator loss:  1.38021 , Generator loss:  0.693301\n",
      "Discriminator loss:  1.38676 , Generator loss:  0.693155\n",
      "Discriminator loss:  1.38378 , Generator loss:  0.692346\n",
      "Discriminator loss:  1.38217 , Generator loss:  0.692851\n",
      "Discriminator loss:  1.38233 , Generator loss:  0.692708\n",
      "Discriminator loss:  1.38177 , Generator loss:  0.693323\n",
      "Discriminator loss:  1.3809 , Generator loss:  0.693535\n"
     ]
    }
   ],
   "source": [
    "for step in xrange(Niter1+1):\n",
    "    \n",
    "    xr = np.random.randn(NBATCH,2)/2\n",
    "    zr = np.random.rand(NBATCH,2)*2-1\n",
    "    \n",
    "    sess.run(D_train, feed_dict={x:xr, z:zr})\n",
    "    \n",
    "    zr = np.random.rand(NBATCH,2)*2-1\n",
    "    \n",
    "    sess.run(G_train1, feed_dict={z:zr})\n",
    "    \n",
    "    if step%print_step == 0:\n",
    "    \n",
    "        dl=sess.run(D_loss,feed_dict={x:xr,z:zr})\n",
    "        gl=sess.run(G_loss1,feed_dict={z:zr})\n",
    "        \n",
    "        print \"Discriminator loss: \", dl, \", Generator loss: \", gl"
   ]
  },
  {
   "cell_type": "code",
   "execution_count": null,
   "metadata": {
    "collapsed": false
   },
   "outputs": [],
   "source": [
    "for step in xrange(Niter2+1):\n",
    "    \n",
    "    xr = np.random.randn(NBATCH,2)/2\n",
    "    zr = np.random.rand(NBATCH,2)*2-1\n",
    "    \n",
    "    sess.run(D_train, feed_dict={x:xr, z:zr})\n",
    "    \n",
    "    zr = np.random.rand(NBATCH,2)*2-1\n",
    "    \n",
    "    sess.run(G_train2, feed_dict={z:zr})\n",
    "    \n",
    "    if step%print_step == 0:\n",
    "    \n",
    "        dl=sess.run(D_loss,feed_dict={x:xr,z:zr})\n",
    "        gl=sess.run(G_loss1,feed_dict={z:zr})\n",
    "        \n",
    "        print \"Discriminator loss: \", dl, \", Generator loss: \", gl"
   ]
  },
  {
   "cell_type": "code",
   "execution_count": 104,
   "metadata": {
    "collapsed": false
   },
   "outputs": [
    {
     "data": {
      "image/png": "[encoded data removed]",
      "text/plain": [
       "<matplotlib.figure.Figure at 0x7f91ed911350>"
      ]
     },
     "metadata": {},
     "output_type": "display_data"
    }
   ],
   "source": [
    "\n",
    "zr = np.random.rand(NBATCH,2)/2\n",
    "\n",
    "out = sess.run(G_out2, feed_dict={z:zr})\n",
    "\n",
    "plt.scatter(out[:,0], out[:,1])\n",
    "plt.show()"
   ]
  },
  {
   "cell_type": "code",
   "execution_count": null,
   "metadata": {
    "collapsed": true
   },
   "outputs": [],
   "source": []
  }
 ],
 "metadata": {
  "kernelspec": {
   "display_name": "Python 2",
   "language": "python",
   "name": "python2"
  },
  "language_info": {
   "codemirror_mode": {
    "name": "ipython",
    "version": 2
   },
   "file_extension": ".py",
   "mimetype": "text/x-python",
   "name": "python",
   "nbconvert_exporter": "python",
   "pygments_lexer": "ipython2",
   "version": "2.7.11"
  }
 },
 "nbformat": 4,
 "nbformat_minor": 0
}
